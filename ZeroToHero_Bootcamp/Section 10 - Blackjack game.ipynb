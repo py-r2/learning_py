{
 "cells": [
  {
   "cell_type": "code",
   "execution_count": 1,
   "metadata": {
    "collapsed": true
   },
   "outputs": [],
   "source": [
    "class Deck(object):\n",
    "    \n",
    "    def __init__(self):\n",
    "        pass\n",
    "     \n",
    "    def card_lst(self):\n",
    "        \n",
    "        f = lambda rep, src: reduce(lambda l, e: l+rep*[e], src, [])\n",
    "        lst = f(4, range(2, 15)) + sorted(4*range(1, 5))\n",
    "        \n",
    "        return sorted(lst)"
   ]
  },
  {
   "cell_type": "code",
   "execution_count": 2,
   "metadata": {},
   "outputs": [],
   "source": [
    "class Player_hand(object):\n",
    "    \n",
    "   # s is player list of cards values\n",
    "    def __init__(self, s):\n",
    "        self.s = s\n",
    "        \n",
    "    def sum(self):\n",
    "#        turn = player_choice()\n",
    "        sum = 0\n",
    "        for c in self.s:\n",
    "            sum += c\n",
    "            if sum == 21:\n",
    "                print \"The winner is: %s\" %turn\n",
    "                break\n",
    "            elif sum > 21:\n",
    "                print turn + \" lost the game!\"\n",
    "                break\n",
    "            else:                \n",
    "                sum\n",
    "                continue"
   ]
  },
  {
   "cell_type": "code",
   "execution_count": 3,
   "metadata": {
    "collapsed": true
   },
   "outputs": [],
   "source": [
    "def player_choice():\n",
    "        y = random.randint(0,1)\n",
    "        if y == 0:\n",
    "            return \"Dealer\"\n",
    "        else:\n",
    "            return \"You\""
   ]
  },
  {
   "cell_type": "code",
   "execution_count": 4,
   "metadata": {
    "collapsed": true
   },
   "outputs": [],
   "source": [
    "def replay():\n",
    "    return (\"Do you want to play again? Please answer with Yes or No:\").upper().startswith('Y')"
   ]
  },
  {
   "cell_type": "code",
   "execution_count": 5,
   "metadata": {
    "collapsed": true
   },
   "outputs": [],
   "source": [
    "def draw_again():\n",
    "    return (\"Do you want to draw again? Please answer with Y or N:\").lower().startswith('y')"
   ]
  },
  {
   "cell_type": "code",
   "execution_count": 6,
   "metadata": {
    "collapsed": true
   },
   "outputs": [],
   "source": [
    "def hand_lst():\n",
    "    \n",
    "    s = []\n",
    "    while pick_card in lst:\n",
    "        s.append(pick_card)\n",
    "        return s"
   ]
  },
  {
   "cell_type": "code",
   "execution_count": 7,
   "metadata": {},
   "outputs": [],
   "source": [
    "def remove_card():\n",
    "    while pick_card in lst:\n",
    "        lst.remove(pick_card)\n",
    "        return lst\n",
    "        break"
   ]
  },
  {
   "cell_type": "code",
   "execution_count": null,
   "metadata": {},
   "outputs": [
    {
     "name": "stdout",
     "output_type": "stream",
     "text": [
      "Welcome to Blackjack game!\n",
      "the list s is: [13]\n",
      "First player is: Dealer\n",
      "Dealer hand:0     Your hand:0\n",
      "Please take your turn and hit Enter...\n",
      "Your card is:13 \n",
      "Dealer hand:13     Your hand:0\n",
      "Please take your turn and hit Enter...\n",
      "Your card is:13 \n",
      "Dealer hand:26     Your hand:0\n"
     ]
    }
   ],
   "source": [
    "import random\n",
    "\n",
    "print \"Welcome to Blackjack game!\"\n",
    "\n",
    "d = Deck()\n",
    "lst = d.card_lst()\n",
    "pick_card = random.randint(lst[0],lst[-1])\n",
    "s = hand_lst()\n",
    "print \"the list s is: %s\" %s\n",
    "while True:\n",
    "    #table reset\n",
    "    value1, value2 = (0,0)\n",
    "    table = {\"Dealer\":value1, \"You\":value2}\n",
    "    turn = player_choice()\n",
    "    print (\"First player is: \" + turn)\n",
    "    print \"Dealer hand:%d\" %table['Dealer'] + (' '*5) + \"Your hand:%d\" %table['You'] \n",
    "    game_on = True\n",
    "\n",
    "    while game_on:\n",
    "        #Dealer turn\n",
    "        if turn == \"Dealer\":\n",
    "            while True:  \n",
    "                raw_input(\"Please take your turn and hit Enter...\")\n",
    "                print \"Your card is:%s \" %pick_card\n",
    "                table['Dealer'] += pick_card\n",
    " #               clear_output()\n",
    "                print \"Dealer hand:%d\" %table['Dealer'] + (' '*5) + \"Your hand:%d\" %table['You']\n",
    "                remove_card()\n",
    "                p = Player_hand(s)\n",
    "                p.sum()\n",
    "\n",
    "\n",
    "        else:\n",
    "        #Your turn\n",
    "            while True:              \n",
    "                raw_input(\"Please take your turn and hit Enter...\")\n",
    "                print \"Your card is:%s \" %pick_card\n",
    "                table['You'] += pick_card\n",
    "                print \"Dealer hand:%d\" %table['Dealer'] + (' '*5) + \"Your hand:%d\" %table['You']\n",
    "                remove_card()\n",
    "                p = Player_hand(s)\n",
    "                p.sum()\n",
    "\n",
    "    if not replay():\n",
    "        break\n"
   ]
  },
  {
   "cell_type": "code",
   "execution_count": 16,
   "metadata": {},
   "outputs": [],
   "source": [
    "import random\n",
    "\n",
    "d = Deck()\n",
    "lst = d.card_lst()\n",
    "pick_card = random.randint(lst[0],lst[-1])"
   ]
  },
  {
   "cell_type": "code",
   "execution_count": 17,
   "metadata": {},
   "outputs": [
    {
     "data": {
      "text/plain": [
       "9"
      ]
     },
     "execution_count": 17,
     "metadata": {},
     "output_type": "execute_result"
    }
   ],
   "source": [
    "pick_card"
   ]
  },
  {
   "cell_type": "code",
   "execution_count": null,
   "metadata": {
    "collapsed": true
   },
   "outputs": [],
   "source": []
  }
 ],
 "metadata": {
  "kernelspec": {
   "display_name": "Python 2",
   "language": "python",
   "name": "python2"
  },
  "language_info": {
   "codemirror_mode": {
    "name": "ipython",
    "version": 2
   },
   "file_extension": ".py",
   "mimetype": "text/x-python",
   "name": "python",
   "nbconvert_exporter": "python",
   "pygments_lexer": "ipython2",
   "version": "2.7.14"
  }
 },
 "nbformat": 4,
 "nbformat_minor": 2
}
